{
 "cells": [
  {
   "cell_type": "markdown",
   "id": "f8c2372a",
   "metadata": {},
   "source": [
    "## Pydantic"
   ]
  },
  {
   "cell_type": "markdown",
   "id": "dff2990a",
   "metadata": {},
   "source": [
    "### why pydantic"
   ]
  },
  {
   "cell_type": "code",
   "execution_count": null,
   "id": "fee2903b",
   "metadata": {},
   "outputs": [
    {
     "name": "stdout",
     "output_type": "stream",
     "text": [
      "Inserting patient data: Name=John Doe, Age=30\n",
      "-------------\n",
      "Inserting patient data: Name=John Doe, Age=my_age\n"
     ]
    }
   ],
   "source": [
    "def insert_patient_data(name, age):\n",
    "\n",
    "    print(f\"Inserting patient data: Name={name}, Age={age}\")\n",
    "\n",
    "insert_patient_data(\"John Doe\", 30)\n",
    "    # This function would typically insert patient data into a database\n",
    "\n",
    "print(\"-------------\") # that's the problm\n",
    "insert_patient_data(\"John Doe\", \"my_age\")"
   ]
  },
  {
   "cell_type": "code",
   "execution_count": null,
   "id": "6ede680a",
   "metadata": {},
   "outputs": [
    {
     "name": "stdout",
     "output_type": "stream",
     "text": [
      "Inserting patient data: Name=John Doe, Age=30\n",
      "-------------\n",
      "Inserting patient data: Name=John Doe, Age=my_age\n"
     ]
    }
   ],
   "source": [
    "def insert_patient_data(name: str, age: int):\n",
    "\n",
    "    print(f\"Inserting patient data: Name={name}, Age={age}\")\n",
    "\n",
    "insert_patient_data(\"John Doe\", 30)\n",
    "    # This function would typically insert patient data into a database\n",
    "\n",
    "print(\"-------------\") # still's the problm\n",
    "insert_patient_data(\"John Doe\", \"my_age\")"
   ]
  },
  {
   "cell_type": "code",
   "execution_count": null,
   "id": "c9959f27",
   "metadata": {},
   "outputs": [
    {
     "name": "stdout",
     "output_type": "stream",
     "text": [
      "Error: Invalid data types provided.\n"
     ]
    }
   ],
   "source": [
    "# this method is correct but as you know it is not scable in the productiv application \n",
    "def insert_patient_data(name: str, age: int):\n",
    "\n",
    "    try:\n",
    "        if type(name) == str and type(age) == int:\n",
    "            print(f\"Inserting patient data: Name={name}, Age={age}\")\n",
    "        else:\n",
    "            raise TypeError(\"Invalid data types provided.\")\n",
    "    except TypeError as e:\n",
    "        print(f\"Error: {e}\")\n",
    "\n",
    "insert_patient_data(\"John Doe\", \"age\")\n",
    "\n",
    "## so that's why we need to use the pydantic in the data validation in the python "
   ]
  },
  {
   "cell_type": "markdown",
   "id": "de4624a9",
   "metadata": {},
   "source": [
    "### How does pydantic work"
   ]
  },
  {
   "cell_type": "markdown",
   "id": "c8ba2e12",
   "metadata": {},
   "source": [
    "**Pydantic**\n",
    "\n",
    "1. Define a Pydantic **model** that represents the ideal **schema** of the data.\n",
    "    * This includes the expected fields, their types, and any validation constraints (e.g., `gt=0` for positive numbers).\n",
    "2. Instantiate the model with raw input data (usually a dictionary or JSON-like structure).\n",
    "    * Pydantic will automatically **validate** the data and coerce it into the correct Python types (if possible).\n",
    "    * If the data doesn't meet the model's requirements, Pydantic raises a `ValidationError`.\n",
    "3. Pass the validated model object to functions or use it throughout your codebase.\n",
    "    * This ensures that every part of your program works with **clean, type-safe, and logically valid data.**"
   ]
  },
  {
   "cell_type": "code",
   "execution_count": 12,
   "id": "5b131c78",
   "metadata": {},
   "outputs": [
    {
     "name": "stdout",
     "output_type": "stream",
     "text": [
      "Inserting patient data: Name=John Doe, Age=30\n"
     ]
    }
   ],
   "source": [
    "from pydantic import BaseModel\n",
    "\n",
    "class patient(BaseModel):\n",
    "    name: str\n",
    "    age: int\n",
    "    \n",
    "\n",
    "patient1 = patient(**{\"name\": \"John Doe\", \"age\": 30})\n",
    "# print(patient1)\n",
    "\n",
    "def insert_patient_data(patient: patient):\n",
    "\n",
    "    print(f\"Inserting patient data: Name={patient.name}, Age={patient.age}\")\n",
    "\n",
    "insert_patient_data(patient1)\n",
    "    # This function would typically insert patient data into a database\n",
    "\n",
    "# print(\"-------------\") # that's the problm\n",
    "# insert_patient_data(\"John Doe\", \"my_age\")"
   ]
  },
  {
   "cell_type": "code",
   "execution_count": null,
   "id": "dfe987f5",
   "metadata": {},
   "outputs": [
    {
     "name": "stdout",
     "output_type": "stream",
     "text": [
      "Inserting patient data: Name=John Doe, Age=30\n"
     ]
    }
   ],
   "source": [
    "from pydantic import BaseModel, EmailStr, AnyUrl, Field\n",
    "from typing import List, Dict, Optional, Annotated\n",
    "\n",
    "class patient(BaseModel):\n",
    "    name: Annotated[str, Field(min_length=1, max_length=100, title=\"Patient Name\", description=\"Full name of the patient\")]\n",
    "    age: int\n",
    "    email: EmailStr\n",
    "    linkedinurl: Optional[AnyUrl] = None\n",
    "    weight: float = Field(gt=0, description=\"Weight in kilograms, must be non-negative\", strict=True)\n",
    "    married: Annotated[bool, Field(default=None, description=\"Is the patient married?\")]\n",
    "    allergies: List[str] = Field(max_length=22)\n",
    "    contacts: Dict[str, str]\n",
    "    alone: Optional[bool] = None\n",
    "    \n",
    "\n",
    "# ...existing code...\n",
    "patient1 = patient(**{\n",
    "    \"name\": \"John Doe\",\n",
    "    \"email\": \"badar@deeunlock.com\",\n",
    "    \"linkedinurl\": \"https://www.linkedin.com/in/badarkhannn/\",\n",
    "    \"age\": 30,\n",
    "    \"weight\": 23.2,\n",
    "    \"married\": True, \n",
    "    \"allergies\": [\"pollen\", \"nuts\"], \n",
    "    \"contacts\": {\"home\": \"123-456-7890\", \"work\": \"987-654-3210\"}\n",
    "})\n",
    "\n",
    "# print(patient1)\n",
    "\n",
    "def insert_patient_data(patient: patient):\n",
    "\n",
    "    print(f\"Inserting patient data: Name={patient.name}, Age={patient.age}\")\n",
    "\n",
    "insert_patient_data(patient1)\n",
    "    # This function would typically insert patient data into a database\n",
    "\n",
    "# print(\"-------------\") # that's the problm\n",
    "# insert_patient_data(\"John Doe\", \"my_age\")"
   ]
  },
  {
   "cell_type": "markdown",
   "id": "8bf07f8b",
   "metadata": {},
   "source": [
    "### Field Validator"
   ]
  },
  {
   "cell_type": "code",
   "execution_count": 55,
   "id": "78fad92f",
   "metadata": {},
   "outputs": [
    {
     "name": "stdout",
     "output_type": "stream",
     "text": [
      "Inserting patient data: Name=JOHN DOE, Age=30\n"
     ]
    }
   ],
   "source": [
    "from pydantic import BaseModel, EmailStr, Field, field_validator\n",
    "from typing import Dict, List\n",
    "\n",
    "class patient(BaseModel):\n",
    "    name: str\n",
    "    email: EmailStr\n",
    "    age: int\n",
    "    weight: float\n",
    "    married: bool\n",
    "    allgergies: List[str]\n",
    "    contact: Dict[str, str]\n",
    "\n",
    "    @field_validator('email')\n",
    "    @classmethod\n",
    "    def email_validator(cls, value: EmailStr) -> EmailStr:\n",
    "        valid_domains = ['deepunlock.com', 'microstun.com']\n",
    "        domain = value.split('@')[1]\n",
    "        if domain not in valid_domains:\n",
    "            raise ValueError(f\"Email domain must be one of {valid_domains}\")\n",
    "        return value\n",
    "    \n",
    "    @field_validator('name')\n",
    "    @classmethod\n",
    "    def tranformm_name(cls, value):\n",
    "        return value.upper()\n",
    "\n",
    "    @field_validator('age', mode='before')\n",
    "    @classmethod\n",
    "    def validate_age(cls, value):\n",
    "        if 0 < value < 120:\n",
    "            return value\n",
    "        else:\n",
    "            raise ValueError(\"Age must be between 0 and 120\")\n",
    "\n",
    "\n",
    "patient_info = {\n",
    "    \"name\": \"John Doe\",\n",
    "    \"email\": \"badar@deepunlock.com\",\n",
    "    \"age\": 30,\n",
    "    \"weight\": 23.2,\n",
    "    \"married\": True,\n",
    "    \"allgergies\": [\"pollen\", \"nuts\"],\n",
    "    \"contact\": {\"home\": \"123-456-7890\", \"work\": \"987-654-3210\"}\n",
    "}\n",
    "\n",
    "patient1 = patient(**patient_info)\n",
    "\n",
    "def insert_patient_data(patient: patient):\n",
    "    print(f\"Inserting patient data: Name={patient.name}, Age={patient.age}\")\n",
    "\n",
    "insert_patient_data(patient1) \n",
    "\n",
    "## ther is a two mode in teh field valider\n",
    "# after and before\n",
    "# after is used to validate the data after the data is created\n",
    "# before is used to validate the data before the data is created"
   ]
  },
  {
   "cell_type": "markdown",
   "id": "ce1c06be",
   "metadata": {},
   "source": [
    "### Model validator"
   ]
  },
  {
   "cell_type": "code",
   "execution_count": 57,
   "id": "ef055660",
   "metadata": {},
   "outputs": [
    {
     "name": "stdout",
     "output_type": "stream",
     "text": [
      "john\n",
      "65\n",
      "['pollen', 'dust']\n",
      "True\n",
      "updated\n"
     ]
    }
   ],
   "source": [
    "from pydantic import BaseModel, EmailStr, model_validator\n",
    "from typing import List, Dict\n",
    "\n",
    "class Patient(BaseModel):\n",
    "\n",
    "    name: str\n",
    "    email: EmailStr\n",
    "    age: int\n",
    "    weight: float\n",
    "    married: bool\n",
    "    allergies: List[str]\n",
    "    contact_details: Dict[str, str]\n",
    "\n",
    "    @model_validator(mode='after')\n",
    "    def validate_emergency_contact(cls, model):\n",
    "        if model.age > 60 and 'emergency' not in model.contact_details:\n",
    "            raise ValueError('Patients older than 60 must have an emergency contact')\n",
    "        return model\n",
    "\n",
    "\n",
    "\n",
    "def update_patient_data(patient: Patient):\n",
    "\n",
    "    print(patient.name)\n",
    "    print(patient.age)\n",
    "    print(patient.allergies)\n",
    "    print(patient.married)\n",
    "    print('updated')\n",
    "\n",
    "patient_info = {'name':'john', 'email':'abc@example.com.com', 'age': '65', 'weight': 75.2, 'married': True, 'allergies': ['pollen', 'dust'], 'contact_details':{'phone':'2353462', 'emergency':'235236'}}\n",
    "\n",
    "patient1 = Patient(**patient_info) \n",
    "\n",
    "update_patient_data(patient1)"
   ]
  },
  {
   "cell_type": "markdown",
   "id": "6b732058",
   "metadata": {},
   "source": [
    "### commputed fields"
   ]
  },
  {
   "cell_type": "code",
   "execution_count": 58,
   "id": "fcc1025b",
   "metadata": {},
   "outputs": [
    {
     "name": "stdout",
     "output_type": "stream",
     "text": [
      "nitish\n",
      "65\n",
      "['pollen', 'dust']\n",
      "True\n",
      "BMI 25.42\n",
      "updated\n"
     ]
    }
   ],
   "source": [
    "from pydantic import BaseModel, EmailStr, computed_field\n",
    "from typing import List, Dict\n",
    "\n",
    "class Patient(BaseModel):\n",
    "\n",
    "    name: str\n",
    "    email: EmailStr\n",
    "    age: int\n",
    "    weight: float # kg\n",
    "    height: float # mtr\n",
    "    married: bool\n",
    "    allergies: List[str]\n",
    "    contact_details: Dict[str, str]\n",
    "\n",
    "    @computed_field\n",
    "    @property\n",
    "    def bmi(self) -> float:\n",
    "        bmi = round(self.weight/(self.height**2),2)\n",
    "        return bmi\n",
    "\n",
    "\n",
    "\n",
    "def update_patient_data(patient: Patient):\n",
    "\n",
    "    print(patient.name)\n",
    "    print(patient.age)\n",
    "    print(patient.allergies)\n",
    "    print(patient.married)\n",
    "    print('BMI', patient.bmi)\n",
    "    print('updated')\n",
    "\n",
    "patient_info = {'name':'nitish', 'email':'abc@icici.com', 'age': '65', 'weight': 75.2, 'height': 1.72, 'married': True, 'allergies': ['pollen', 'dust'], 'contact_details':{'phone':'2353462', 'emergency':'235236'}}\n",
    "\n",
    "patient1 = Patient(**patient_info) \n",
    "\n",
    "update_patient_data(patient1)"
   ]
  },
  {
   "cell_type": "markdown",
   "id": "d819ff8b",
   "metadata": {},
   "source": [
    "### NEsted Model"
   ]
  },
  {
   "cell_type": "code",
   "execution_count": 61,
   "id": "ee3d3536",
   "metadata": {},
   "outputs": [
    {
     "name": "stdout",
     "output_type": "stream",
     "text": [
      "<class 'dict'>\n"
     ]
    }
   ],
   "source": [
    "from pydantic import BaseModel\n",
    "\n",
    "class Address(BaseModel):\n",
    "\n",
    "    city: str\n",
    "    state: str\n",
    "    pin: str\n",
    "\n",
    "class Patient(BaseModel):\n",
    "\n",
    "    name: str\n",
    "    gender: str\n",
    "    age: int\n",
    "    address: Address\n",
    "\n",
    "address_dict = {'city': 'gurgaon', 'state': 'haryana', 'pin': '122001'}\n",
    "\n",
    "address1 = Address(**address_dict)\n",
    "\n",
    "patient_dict = {'name': 'nitish', 'gender': 'male', 'age': 35, 'address': address1}\n",
    "\n",
    "patient1 = Patient(**patient_dict)\n",
    "\n",
    "temp = patient1.model_dump()\n",
    "\n",
    "print(type(temp))\n",
    "\n",
    "\n",
    "# Better organization of related data (e.g., vitals, address, insurance)\n",
    "\n",
    "# Reusability: Use Vitals in multiple models (e.g., Patient, MedicalRecord)\n",
    "\n",
    "# Readability: Easier for developers and API consumers to understand\n",
    "\n",
    "# Validation: Nested models are validated automatically—no extra work needed"
   ]
  },
  {
   "cell_type": "markdown",
   "id": "73f60498",
   "metadata": {},
   "source": [
    "### SErizalication"
   ]
  },
  {
   "cell_type": "code",
   "execution_count": 62,
   "id": "c262ffee",
   "metadata": {},
   "outputs": [
    {
     "name": "stdout",
     "output_type": "stream",
     "text": [
      "{'name': 'nitish', 'age': 35, 'address': {'city': 'gurgaon', 'state': 'haryana', 'pin': '122001'}}\n",
      "<class 'dict'>\n"
     ]
    }
   ],
   "source": [
    "from pydantic import BaseModel\n",
    "\n",
    "class Address(BaseModel):\n",
    "\n",
    "    city: str\n",
    "    state: str\n",
    "    pin: str\n",
    "\n",
    "class Patient(BaseModel):\n",
    "\n",
    "    name: str\n",
    "    gender: str = 'Male'\n",
    "    age: int\n",
    "    address: Address\n",
    "\n",
    "address_dict = {'city': 'gurgaon', 'state': 'haryana', 'pin': '122001'}\n",
    "\n",
    "address1 = Address(**address_dict)\n",
    "\n",
    "patient_dict = {'name': 'nitish', 'age': 35, 'address': address1}\n",
    "\n",
    "patient1 = Patient(**patient_dict)\n",
    "\n",
    "temp = patient1.model_dump(exclude_unset=True)\n",
    "\n",
    "print(temp)\n",
    "print(type(temp))"
   ]
  }
 ],
 "metadata": {
  "kernelspec": {
   "display_name": ".venv",
   "language": "python",
   "name": "python3"
  },
  "language_info": {
   "codemirror_mode": {
    "name": "ipython",
    "version": 3
   },
   "file_extension": ".py",
   "mimetype": "text/x-python",
   "name": "python",
   "nbconvert_exporter": "python",
   "pygments_lexer": "ipython3",
   "version": "3.11.12"
  }
 },
 "nbformat": 4,
 "nbformat_minor": 5
}
